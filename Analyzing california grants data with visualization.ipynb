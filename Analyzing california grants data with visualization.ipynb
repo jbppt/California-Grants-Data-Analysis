{
 "cells": [
  {
   "cell_type": "code",
   "execution_count": 1,
   "metadata": {},
   "outputs": [],
   "source": [
    "import pandas as pd"
   ]
  },
  {
   "cell_type": "code",
   "execution_count": 2,
   "metadata": {
    "scrolled": true
   },
   "outputs": [
    {
     "data": {
      "text/html": [
       "<div>\n",
       "<style scoped>\n",
       "    .dataframe tbody tr th:only-of-type {\n",
       "        vertical-align: middle;\n",
       "    }\n",
       "\n",
       "    .dataframe tbody tr th {\n",
       "        vertical-align: top;\n",
       "    }\n",
       "\n",
       "    .dataframe thead th {\n",
       "        text-align: right;\n",
       "    }\n",
       "</style>\n",
       "<table border=\"1\" class=\"dataframe\">\n",
       "  <thead>\n",
       "    <tr style=\"text-align: right;\">\n",
       "      <th></th>\n",
       "      <th>PortalID</th>\n",
       "      <th>GrantID</th>\n",
       "      <th>Status</th>\n",
       "      <th>LastUpdated</th>\n",
       "      <th>ChangeNotes</th>\n",
       "      <th>AgencyDept</th>\n",
       "      <th>Title</th>\n",
       "      <th>Type</th>\n",
       "      <th>LOI</th>\n",
       "      <th>Categories</th>\n",
       "      <th>...</th>\n",
       "      <th>ApplicationDeadline</th>\n",
       "      <th>AwardPeriod</th>\n",
       "      <th>ExpAwardDate</th>\n",
       "      <th>ElecSubmission</th>\n",
       "      <th>GrantURL</th>\n",
       "      <th>AgencyURL</th>\n",
       "      <th>AgencySubscribeURL</th>\n",
       "      <th>GrantEventsURL</th>\n",
       "      <th>ContactInfo</th>\n",
       "      <th>AppsSubmitted</th>\n",
       "    </tr>\n",
       "  </thead>\n",
       "  <tbody>\n",
       "    <tr>\n",
       "      <th>0</th>\n",
       "      <td>10382</td>\n",
       "      <td>NaN</td>\n",
       "      <td>active</td>\n",
       "      <td>2022-05-16 21:57:23</td>\n",
       "      <td>Changed to active.</td>\n",
       "      <td>Department of Health Care Access and Information</td>\n",
       "      <td>Advanced Practice Healthcare Scholarship Progr...</td>\n",
       "      <td>Loan</td>\n",
       "      <td>no</td>\n",
       "      <td>Disadvantaged Communities; Education</td>\n",
       "      <td>...</td>\n",
       "      <td>2022-10-31 17:00:00</td>\n",
       "      <td>5 months</td>\n",
       "      <td>2022-11-01 00:00:00</td>\n",
       "      <td>url: https://funding.hcai.ca.gov/;</td>\n",
       "      <td>https://hcai.ca.gov/loans-scholarships-grants/...</td>\n",
       "      <td>https://hcai.ca.gov/</td>\n",
       "      <td>https://hcai.ca.gov/mailing-list/</td>\n",
       "      <td>https://hcai.ca.gov/public-meetings/</td>\n",
       "      <td>name: Michael Andrijich; email: michael.andrij...</td>\n",
       "      <td>NaN</td>\n",
       "    </tr>\n",
       "    <tr>\n",
       "      <th>1</th>\n",
       "      <td>10379</td>\n",
       "      <td>NaN</td>\n",
       "      <td>active</td>\n",
       "      <td>2022-05-16 21:55:05</td>\n",
       "      <td>Changed to active.</td>\n",
       "      <td>Department of Health Care Access and Information</td>\n",
       "      <td>Allied Healthcare Scholarship Program 2022</td>\n",
       "      <td>Loan</td>\n",
       "      <td>no</td>\n",
       "      <td>Disadvantaged Communities; Education</td>\n",
       "      <td>...</td>\n",
       "      <td>2022-10-31 17:00:00</td>\n",
       "      <td>5 months</td>\n",
       "      <td>2022-11-01 00:00:00</td>\n",
       "      <td>url: https://funding.hcai.ca.gov/;</td>\n",
       "      <td>https://hcai.ca.gov/loans-scholarships-grants/...</td>\n",
       "      <td>https://hcai.ca.gov/</td>\n",
       "      <td>https://hcai.ca.gov/mailing-list/</td>\n",
       "      <td>https://hcai.ca.gov/public-meetings/</td>\n",
       "      <td>name: Michael Andrijich; email: michael.andrij...</td>\n",
       "      <td>NaN</td>\n",
       "    </tr>\n",
       "    <tr>\n",
       "      <th>2</th>\n",
       "      <td>10376</td>\n",
       "      <td>NaN</td>\n",
       "      <td>active</td>\n",
       "      <td>2022-05-16 21:56:33</td>\n",
       "      <td>Changed to active.</td>\n",
       "      <td>Department of Health Care Access and Information</td>\n",
       "      <td>Steven M. Thompson Physician Corps Loan Repaym...</td>\n",
       "      <td>Loan</td>\n",
       "      <td>no</td>\n",
       "      <td>Disadvantaged Communities</td>\n",
       "      <td>...</td>\n",
       "      <td>2022-10-31 17:00:00</td>\n",
       "      <td>5 months</td>\n",
       "      <td>2022-11-01 00:00:00</td>\n",
       "      <td>url: https://funding.hcai.ca.gov/;</td>\n",
       "      <td>https://hcai.ca.gov/loans-scholarships-grants/...</td>\n",
       "      <td>https://hcai.ca.gov/</td>\n",
       "      <td>https://hcai.ca.gov/mailing-list/</td>\n",
       "      <td>https://hcai.ca.gov/public-meetings/</td>\n",
       "      <td>name: Michael Andrijich; email: michael.andrij...</td>\n",
       "      <td>NaN</td>\n",
       "    </tr>\n",
       "    <tr>\n",
       "      <th>3</th>\n",
       "      <td>10373</td>\n",
       "      <td>NaN</td>\n",
       "      <td>active</td>\n",
       "      <td>2022-05-16 21:53:42</td>\n",
       "      <td>Changing to active.</td>\n",
       "      <td>Department of Health Care Access and Information</td>\n",
       "      <td>Licensed Mental Health Services Provider Educa...</td>\n",
       "      <td>Loan</td>\n",
       "      <td>no</td>\n",
       "      <td>Disadvantaged Communities</td>\n",
       "      <td>...</td>\n",
       "      <td>2022-10-31 17:00:00</td>\n",
       "      <td>5 months</td>\n",
       "      <td>2022-11-01 00:00:00</td>\n",
       "      <td>url: https://funding.hcai.ca.gov/;</td>\n",
       "      <td>https://hcai.ca.gov/loans-scholarships-grants/...</td>\n",
       "      <td>https://hcai.ca.gov/</td>\n",
       "      <td>https://hcai.ca.gov/mailing-list/</td>\n",
       "      <td>https://hcai.ca.gov/public-meetings/</td>\n",
       "      <td>name: Michael Andrijich; email: michael.andrij...</td>\n",
       "      <td>NaN</td>\n",
       "    </tr>\n",
       "    <tr>\n",
       "      <th>4</th>\n",
       "      <td>10391</td>\n",
       "      <td>NaN</td>\n",
       "      <td>active</td>\n",
       "      <td>2022-05-12 23:57:18</td>\n",
       "      <td>NaN</td>\n",
       "      <td>Strategic Growth Council</td>\n",
       "      <td>Regional Climate Collaboratives Program</td>\n",
       "      <td>Grant</td>\n",
       "      <td>no</td>\n",
       "      <td>Agriculture; Disadvantaged Communities; Disast...</td>\n",
       "      <td>...</td>\n",
       "      <td>2022-10-07 05:00:00</td>\n",
       "      <td>3 years</td>\n",
       "      <td>2022-12-15 00:00:00</td>\n",
       "      <td>url: https://forms.office.com/Pages/ResponsePa...</td>\n",
       "      <td>https://sgc.ca.gov/programs/cace/resources/rcc/</td>\n",
       "      <td>https://sgc.ca.gov/</td>\n",
       "      <td>https://visitor.r20.constantcontact.com/manage...</td>\n",
       "      <td>https://sgc.ca.gov/news/2022/05-12.html</td>\n",
       "      <td>name: Ena Lupine; email: Ena.Lupine@sgc.ca.gov...</td>\n",
       "      <td>NaN</td>\n",
       "    </tr>\n",
       "    <tr>\n",
       "      <th>5</th>\n",
       "      <td>10346</td>\n",
       "      <td>NaN</td>\n",
       "      <td>active</td>\n",
       "      <td>2022-05-11 17:33:06</td>\n",
       "      <td>NaN</td>\n",
       "      <td>Wildlife Conservation Board</td>\n",
       "      <td>Regional Conservation Investment Strategies</td>\n",
       "      <td>Grant</td>\n",
       "      <td>yes</td>\n",
       "      <td>Disadvantaged Communities; Environment &amp; Water...</td>\n",
       "      <td>...</td>\n",
       "      <td>Ongoing</td>\n",
       "      <td>2025-06-30 00:00:00</td>\n",
       "      <td>Continuous</td>\n",
       "      <td>email: WCBpreapps@wildlife.ca.gov;</td>\n",
       "      <td>https://wcb.ca.gov/Grants</td>\n",
       "      <td>https://wcb.ca.gov/</td>\n",
       "      <td>https://wcb.ca.gov/Subscribe</td>\n",
       "      <td>https://wcb.ca.gov/Library/News</td>\n",
       "      <td>name: Shannon Lucas; email: shannon.lucas@wild...</td>\n",
       "      <td>NaN</td>\n",
       "    </tr>\n",
       "    <tr>\n",
       "      <th>6</th>\n",
       "      <td>10343</td>\n",
       "      <td>NaN</td>\n",
       "      <td>active</td>\n",
       "      <td>2022-05-11 17:29:49</td>\n",
       "      <td>NaN</td>\n",
       "      <td>Wildlife Conservation Board</td>\n",
       "      <td>Monarch Butterfly and Pollinator Rescue</td>\n",
       "      <td>Grant</td>\n",
       "      <td>yes</td>\n",
       "      <td>Environment &amp; Water; Science, Technology, and ...</td>\n",
       "      <td>...</td>\n",
       "      <td>Ongoing</td>\n",
       "      <td>2-4 year grant terms</td>\n",
       "      <td>Continuous</td>\n",
       "      <td>email: WCBpreapps@wildlife.ca.gov;</td>\n",
       "      <td>https://wcb.ca.gov/Grants</td>\n",
       "      <td>https://wcb.ca.gov/</td>\n",
       "      <td>https://wcb.ca.gov/Subscribe</td>\n",
       "      <td>https://wcb.ca.gov/Library/News</td>\n",
       "      <td>name: Scott McFarlin; email: scott.mcfarlin@wi...</td>\n",
       "      <td>NaN</td>\n",
       "    </tr>\n",
       "    <tr>\n",
       "      <th>7</th>\n",
       "      <td>10340</td>\n",
       "      <td>NaN</td>\n",
       "      <td>active</td>\n",
       "      <td>2022-05-11 17:26:15</td>\n",
       "      <td>NaN</td>\n",
       "      <td>Wildlife Conservation Board</td>\n",
       "      <td>Inland Wetlands Conservation</td>\n",
       "      <td>Grant</td>\n",
       "      <td>yes</td>\n",
       "      <td>Environment &amp; Water</td>\n",
       "      <td>...</td>\n",
       "      <td>Ongoing</td>\n",
       "      <td>2-4 year grant terms</td>\n",
       "      <td>Continuous</td>\n",
       "      <td>email: WCBpreapps@wildlife.ca.gov;</td>\n",
       "      <td>https://wcb.ca.gov/Grants</td>\n",
       "      <td>https://wcb.ca.gov/</td>\n",
       "      <td>https://wcb.ca.gov/Subscribe</td>\n",
       "      <td>https://wcb.ca.gov/Library/News</td>\n",
       "      <td>name: James Croft; email: james.croft@wildlife...</td>\n",
       "      <td>NaN</td>\n",
       "    </tr>\n",
       "    <tr>\n",
       "      <th>8</th>\n",
       "      <td>10337</td>\n",
       "      <td>NaN</td>\n",
       "      <td>active</td>\n",
       "      <td>2022-05-11 17:22:59</td>\n",
       "      <td>NaN</td>\n",
       "      <td>Wildlife Conservation Board</td>\n",
       "      <td>Habitat Enhancement and Restoration</td>\n",
       "      <td>Grant</td>\n",
       "      <td>yes</td>\n",
       "      <td>Environment &amp; Water</td>\n",
       "      <td>...</td>\n",
       "      <td>Ongoing</td>\n",
       "      <td>2-4 year grant terms</td>\n",
       "      <td>Continuous</td>\n",
       "      <td>email: WCBpreapps@wildlife.ca.gov;</td>\n",
       "      <td>https://wcb.ca.gov/Grants</td>\n",
       "      <td>https://wcb.ca.gov/</td>\n",
       "      <td>https://wcb.ca.gov/Subscribe</td>\n",
       "      <td>https://wcb.ca.gov/Library/News</td>\n",
       "      <td>name: Judah Grossman; email: judah.grossman@wi...</td>\n",
       "      <td>NaN</td>\n",
       "    </tr>\n",
       "    <tr>\n",
       "      <th>9</th>\n",
       "      <td>10322</td>\n",
       "      <td>NaN</td>\n",
       "      <td>active</td>\n",
       "      <td>2022-05-11 14:54:19</td>\n",
       "      <td>NaN</td>\n",
       "      <td>Wildlife Conservation Board</td>\n",
       "      <td>Wildlife Corridor and Fish Passage</td>\n",
       "      <td>Grant</td>\n",
       "      <td>yes</td>\n",
       "      <td>Disadvantaged Communities; Environment &amp; Water...</td>\n",
       "      <td>...</td>\n",
       "      <td>Ongoing</td>\n",
       "      <td>2-4 year grant terms</td>\n",
       "      <td>Continuous</td>\n",
       "      <td>email: WCBpreapps@wildlife.ca.gov;</td>\n",
       "      <td>https://wcb.ca.gov/Grants</td>\n",
       "      <td>https://wcb.ca.gov/</td>\n",
       "      <td>https://wcb.ca.gov/Subscribe</td>\n",
       "      <td>https://wcb.ca.gov/Library/News</td>\n",
       "      <td>name: Don Crocker; email: don.crocker@wildlife...</td>\n",
       "      <td>NaN</td>\n",
       "    </tr>\n",
       "  </tbody>\n",
       "</table>\n",
       "<p>10 rows × 36 columns</p>\n",
       "</div>"
      ],
      "text/plain": [
       "   PortalID GrantID  Status         LastUpdated          ChangeNotes  \\\n",
       "0     10382     NaN  active 2022-05-16 21:57:23   Changed to active.   \n",
       "1     10379     NaN  active 2022-05-16 21:55:05   Changed to active.   \n",
       "2     10376     NaN  active 2022-05-16 21:56:33   Changed to active.   \n",
       "3     10373     NaN  active 2022-05-16 21:53:42  Changing to active.   \n",
       "4     10391     NaN  active 2022-05-12 23:57:18                  NaN   \n",
       "5     10346     NaN  active 2022-05-11 17:33:06                  NaN   \n",
       "6     10343     NaN  active 2022-05-11 17:29:49                  NaN   \n",
       "7     10340     NaN  active 2022-05-11 17:26:15                  NaN   \n",
       "8     10337     NaN  active 2022-05-11 17:22:59                  NaN   \n",
       "9     10322     NaN  active 2022-05-11 14:54:19                  NaN   \n",
       "\n",
       "                                         AgencyDept  \\\n",
       "0  Department of Health Care Access and Information   \n",
       "1  Department of Health Care Access and Information   \n",
       "2  Department of Health Care Access and Information   \n",
       "3  Department of Health Care Access and Information   \n",
       "4                          Strategic Growth Council   \n",
       "5                       Wildlife Conservation Board   \n",
       "6                       Wildlife Conservation Board   \n",
       "7                       Wildlife Conservation Board   \n",
       "8                       Wildlife Conservation Board   \n",
       "9                       Wildlife Conservation Board   \n",
       "\n",
       "                                               Title   Type  LOI  \\\n",
       "0  Advanced Practice Healthcare Scholarship Progr...   Loan   no   \n",
       "1         Allied Healthcare Scholarship Program 2022   Loan   no   \n",
       "2  Steven M. Thompson Physician Corps Loan Repaym...   Loan   no   \n",
       "3  Licensed Mental Health Services Provider Educa...   Loan   no   \n",
       "4            Regional Climate Collaboratives Program  Grant   no   \n",
       "5        Regional Conservation Investment Strategies  Grant  yes   \n",
       "6            Monarch Butterfly and Pollinator Rescue  Grant  yes   \n",
       "7                       Inland Wetlands Conservation  Grant  yes   \n",
       "8                Habitat Enhancement and Restoration  Grant  yes   \n",
       "9                 Wildlife Corridor and Fish Passage  Grant  yes   \n",
       "\n",
       "                                          Categories  ...  \\\n",
       "0               Disadvantaged Communities; Education  ...   \n",
       "1               Disadvantaged Communities; Education  ...   \n",
       "2                          Disadvantaged Communities  ...   \n",
       "3                          Disadvantaged Communities  ...   \n",
       "4  Agriculture; Disadvantaged Communities; Disast...  ...   \n",
       "5  Disadvantaged Communities; Environment & Water...  ...   \n",
       "6  Environment & Water; Science, Technology, and ...  ...   \n",
       "7                                Environment & Water  ...   \n",
       "8                                Environment & Water  ...   \n",
       "9  Disadvantaged Communities; Environment & Water...  ...   \n",
       "\n",
       "   ApplicationDeadline           AwardPeriod         ExpAwardDate  \\\n",
       "0  2022-10-31 17:00:00              5 months  2022-11-01 00:00:00   \n",
       "1  2022-10-31 17:00:00              5 months  2022-11-01 00:00:00   \n",
       "2  2022-10-31 17:00:00              5 months  2022-11-01 00:00:00   \n",
       "3  2022-10-31 17:00:00              5 months  2022-11-01 00:00:00   \n",
       "4  2022-10-07 05:00:00               3 years  2022-12-15 00:00:00   \n",
       "5              Ongoing   2025-06-30 00:00:00           Continuous   \n",
       "6              Ongoing  2-4 year grant terms           Continuous   \n",
       "7              Ongoing  2-4 year grant terms           Continuous   \n",
       "8              Ongoing  2-4 year grant terms           Continuous   \n",
       "9              Ongoing  2-4 year grant terms           Continuous   \n",
       "\n",
       "                                      ElecSubmission  \\\n",
       "0                 url: https://funding.hcai.ca.gov/;   \n",
       "1                 url: https://funding.hcai.ca.gov/;   \n",
       "2                 url: https://funding.hcai.ca.gov/;   \n",
       "3                 url: https://funding.hcai.ca.gov/;   \n",
       "4  url: https://forms.office.com/Pages/ResponsePa...   \n",
       "5                 email: WCBpreapps@wildlife.ca.gov;   \n",
       "6                 email: WCBpreapps@wildlife.ca.gov;   \n",
       "7                 email: WCBpreapps@wildlife.ca.gov;   \n",
       "8                 email: WCBpreapps@wildlife.ca.gov;   \n",
       "9                 email: WCBpreapps@wildlife.ca.gov;   \n",
       "\n",
       "                                            GrantURL             AgencyURL  \\\n",
       "0  https://hcai.ca.gov/loans-scholarships-grants/...  https://hcai.ca.gov/   \n",
       "1  https://hcai.ca.gov/loans-scholarships-grants/...  https://hcai.ca.gov/   \n",
       "2  https://hcai.ca.gov/loans-scholarships-grants/...  https://hcai.ca.gov/   \n",
       "3  https://hcai.ca.gov/loans-scholarships-grants/...  https://hcai.ca.gov/   \n",
       "4    https://sgc.ca.gov/programs/cace/resources/rcc/   https://sgc.ca.gov/   \n",
       "5                          https://wcb.ca.gov/Grants   https://wcb.ca.gov/   \n",
       "6                          https://wcb.ca.gov/Grants   https://wcb.ca.gov/   \n",
       "7                          https://wcb.ca.gov/Grants   https://wcb.ca.gov/   \n",
       "8                          https://wcb.ca.gov/Grants   https://wcb.ca.gov/   \n",
       "9                          https://wcb.ca.gov/Grants   https://wcb.ca.gov/   \n",
       "\n",
       "                                  AgencySubscribeURL  \\\n",
       "0                  https://hcai.ca.gov/mailing-list/   \n",
       "1                  https://hcai.ca.gov/mailing-list/   \n",
       "2                  https://hcai.ca.gov/mailing-list/   \n",
       "3                  https://hcai.ca.gov/mailing-list/   \n",
       "4  https://visitor.r20.constantcontact.com/manage...   \n",
       "5                       https://wcb.ca.gov/Subscribe   \n",
       "6                       https://wcb.ca.gov/Subscribe   \n",
       "7                       https://wcb.ca.gov/Subscribe   \n",
       "8                       https://wcb.ca.gov/Subscribe   \n",
       "9                       https://wcb.ca.gov/Subscribe   \n",
       "\n",
       "                            GrantEventsURL  \\\n",
       "0     https://hcai.ca.gov/public-meetings/   \n",
       "1     https://hcai.ca.gov/public-meetings/   \n",
       "2     https://hcai.ca.gov/public-meetings/   \n",
       "3     https://hcai.ca.gov/public-meetings/   \n",
       "4  https://sgc.ca.gov/news/2022/05-12.html   \n",
       "5          https://wcb.ca.gov/Library/News   \n",
       "6          https://wcb.ca.gov/Library/News   \n",
       "7          https://wcb.ca.gov/Library/News   \n",
       "8          https://wcb.ca.gov/Library/News   \n",
       "9          https://wcb.ca.gov/Library/News   \n",
       "\n",
       "                                         ContactInfo AppsSubmitted  \n",
       "0  name: Michael Andrijich; email: michael.andrij...           NaN  \n",
       "1  name: Michael Andrijich; email: michael.andrij...           NaN  \n",
       "2  name: Michael Andrijich; email: michael.andrij...           NaN  \n",
       "3  name: Michael Andrijich; email: michael.andrij...           NaN  \n",
       "4  name: Ena Lupine; email: Ena.Lupine@sgc.ca.gov...           NaN  \n",
       "5  name: Shannon Lucas; email: shannon.lucas@wild...           NaN  \n",
       "6  name: Scott McFarlin; email: scott.mcfarlin@wi...           NaN  \n",
       "7  name: James Croft; email: james.croft@wildlife...           NaN  \n",
       "8  name: Judah Grossman; email: judah.grossman@wi...           NaN  \n",
       "9  name: Don Crocker; email: don.crocker@wildlife...           NaN  \n",
       "\n",
       "[10 rows x 36 columns]"
      ]
     },
     "execution_count": 2,
     "metadata": {},
     "output_type": "execute_result"
    }
   ],
   "source": [
    "#loading a local excel sheet into pandas and then showing the first 10 rows of monthly trade data. creating a dataframe for that sheet.\n",
    "df = pd.read_excel('california-grants-portal-data.xls', sheet_name=0)\n",
    "df.head(10)"
   ]
  },
  {
   "cell_type": "code",
   "execution_count": 3,
   "metadata": {},
   "outputs": [
    {
     "name": "stdout",
     "output_type": "stream",
     "text": [
      "<class 'pandas.core.frame.DataFrame'>\n",
      "RangeIndex: 676 entries, 0 to 675\n",
      "Data columns (total 36 columns):\n",
      " #   Column               Non-Null Count  Dtype         \n",
      "---  ------               --------------  -----         \n",
      " 0   PortalID             676 non-null    int64         \n",
      " 1   GrantID              116 non-null    object        \n",
      " 2   Status               676 non-null    object        \n",
      " 3   LastUpdated          676 non-null    datetime64[ns]\n",
      " 4   ChangeNotes          393 non-null    object        \n",
      " 5   AgencyDept           676 non-null    object        \n",
      " 6   Title                676 non-null    object        \n",
      " 7   Type                 672 non-null    object        \n",
      " 8   LOI                  675 non-null    object        \n",
      " 9   Categories           676 non-null    object        \n",
      " 10  CategorySuggestion   87 non-null     object        \n",
      " 11  Purpose              675 non-null    object        \n",
      " 12  Description          676 non-null    object        \n",
      " 13  ApplicantType        672 non-null    object        \n",
      " 14  ApplicantTypeNotes   561 non-null    object        \n",
      " 15  Geography            521 non-null    object        \n",
      " 16  FundingSource        672 non-null    object        \n",
      " 17  FundingSourceNotes   493 non-null    object        \n",
      " 18  MatchingFunds        676 non-null    object        \n",
      " 19  MatchingFundsNotes   262 non-null    object        \n",
      " 20  EstAvailFunds        671 non-null    float64       \n",
      " 21  EstAwards            676 non-null    object        \n",
      " 22  EstAmounts           676 non-null    object        \n",
      " 23  FundingMethod        670 non-null    object        \n",
      " 24  FundingMethodNotes   394 non-null    object        \n",
      " 25  OpenDate             671 non-null    object        \n",
      " 26  ApplicationDeadline  664 non-null    object        \n",
      " 27  AwardPeriod          663 non-null    object        \n",
      " 28  ExpAwardDate         664 non-null    object        \n",
      " 29  ElecSubmission       563 non-null    object        \n",
      " 30  GrantURL             676 non-null    object        \n",
      " 31  AgencyURL            675 non-null    object        \n",
      " 32  AgencySubscribeURL   369 non-null    object        \n",
      " 33  GrantEventsURL       258 non-null    object        \n",
      " 34  ContactInfo          676 non-null    object        \n",
      " 35  AppsSubmitted        546 non-null    float64       \n",
      "dtypes: datetime64[ns](1), float64(2), int64(1), object(32)\n",
      "memory usage: 190.2+ KB\n"
     ]
    }
   ],
   "source": [
    "#checking the datatypes of all columns\n",
    "first_six=df.iloc[:,:36]\n",
    "first_six.info()"
   ]
  },
  {
   "cell_type": "code",
   "execution_count": 15,
   "metadata": {},
   "outputs": [
    {
     "name": "stderr",
     "output_type": "stream",
     "text": [
      "/var/folders/vl/w9bp1_814g15jryp51vy36z80000gn/T/ipykernel_35040/3326091722.py:3: FutureWarning: The default value of numeric_only in DataFrameGroupBy.sum is deprecated. In a future version, numeric_only will default to False. Either specify numeric_only or select only columns which should be valid for the function.\n",
      "  df2 = df.groupby('AgencyDept').sum().reset_index()\n"
     ]
    },
    {
     "data": {
      "text/html": [
       "<div>\n",
       "<style scoped>\n",
       "    .dataframe tbody tr th:only-of-type {\n",
       "        vertical-align: middle;\n",
       "    }\n",
       "\n",
       "    .dataframe tbody tr th {\n",
       "        vertical-align: top;\n",
       "    }\n",
       "\n",
       "    .dataframe thead th {\n",
       "        text-align: right;\n",
       "    }\n",
       "</style>\n",
       "<table border=\"1\" class=\"dataframe\">\n",
       "  <thead>\n",
       "    <tr style=\"text-align: right;\">\n",
       "      <th></th>\n",
       "      <th>AgencyDept</th>\n",
       "      <th>PortalID</th>\n",
       "      <th>EstAvailFunds</th>\n",
       "      <th>AppsSubmitted</th>\n",
       "    </tr>\n",
       "  </thead>\n",
       "  <tbody>\n",
       "    <tr>\n",
       "      <th>0</th>\n",
       "      <td>Air Resources Board</td>\n",
       "      <td>24195</td>\n",
       "      <td>5.320000e+07</td>\n",
       "      <td>115.0</td>\n",
       "    </tr>\n",
       "    <tr>\n",
       "      <th>1</th>\n",
       "      <td>Board of State and Community Corrections</td>\n",
       "      <td>53504</td>\n",
       "      <td>6.374354e+08</td>\n",
       "      <td>515.0</td>\n",
       "    </tr>\n",
       "    <tr>\n",
       "      <th>2</th>\n",
       "      <td>CA Arts Council</td>\n",
       "      <td>179020</td>\n",
       "      <td>1.296817e+08</td>\n",
       "      <td>1867.0</td>\n",
       "    </tr>\n",
       "    <tr>\n",
       "      <th>3</th>\n",
       "      <td>CA Business, Consumer Services, and Housing Ag...</td>\n",
       "      <td>16672</td>\n",
       "      <td>6.200000e+07</td>\n",
       "      <td>39.0</td>\n",
       "    </tr>\n",
       "    <tr>\n",
       "      <th>4</th>\n",
       "      <td>CA Department of Corrections and Rehabilitation</td>\n",
       "      <td>21682</td>\n",
       "      <td>2.900000e+07</td>\n",
       "      <td>214.0</td>\n",
       "    </tr>\n",
       "    <tr>\n",
       "      <th>...</th>\n",
       "      <td>...</td>\n",
       "      <td>...</td>\n",
       "      <td>...</td>\n",
       "      <td>...</td>\n",
       "    </tr>\n",
       "    <tr>\n",
       "      <th>56</th>\n",
       "      <td>Tahoe Conservancy</td>\n",
       "      <td>7164</td>\n",
       "      <td>5.450000e+06</td>\n",
       "      <td>22.0</td>\n",
       "    </tr>\n",
       "    <tr>\n",
       "      <th>57</th>\n",
       "      <td>Transportation Commission</td>\n",
       "      <td>22048</td>\n",
       "      <td>1.900000e+09</td>\n",
       "      <td>0.0</td>\n",
       "    </tr>\n",
       "    <tr>\n",
       "      <th>58</th>\n",
       "      <td>Victim Compensation Board</td>\n",
       "      <td>11756</td>\n",
       "      <td>4.000000e+06</td>\n",
       "      <td>43.0</td>\n",
       "    </tr>\n",
       "    <tr>\n",
       "      <th>59</th>\n",
       "      <td>Wildlife Conservation Board</td>\n",
       "      <td>210374</td>\n",
       "      <td>8.943000e+08</td>\n",
       "      <td>592.0</td>\n",
       "    </tr>\n",
       "    <tr>\n",
       "      <th>60</th>\n",
       "      <td>Workforce Development Board</td>\n",
       "      <td>28708</td>\n",
       "      <td>1.175000e+08</td>\n",
       "      <td>154.0</td>\n",
       "    </tr>\n",
       "  </tbody>\n",
       "</table>\n",
       "<p>61 rows × 4 columns</p>\n",
       "</div>"
      ],
      "text/plain": [
       "                                           AgencyDept  PortalID  \\\n",
       "0                                 Air Resources Board     24195   \n",
       "1            Board of State and Community Corrections     53504   \n",
       "2                                     CA Arts Council    179020   \n",
       "3   CA Business, Consumer Services, and Housing Ag...     16672   \n",
       "4     CA Department of Corrections and Rehabilitation     21682   \n",
       "..                                                ...       ...   \n",
       "56                                  Tahoe Conservancy      7164   \n",
       "57                          Transportation Commission     22048   \n",
       "58                          Victim Compensation Board     11756   \n",
       "59                        Wildlife Conservation Board    210374   \n",
       "60                        Workforce Development Board     28708   \n",
       "\n",
       "    EstAvailFunds  AppsSubmitted  \n",
       "0    5.320000e+07          115.0  \n",
       "1    6.374354e+08          515.0  \n",
       "2    1.296817e+08         1867.0  \n",
       "3    6.200000e+07           39.0  \n",
       "4    2.900000e+07          214.0  \n",
       "..            ...            ...  \n",
       "56   5.450000e+06           22.0  \n",
       "57   1.900000e+09            0.0  \n",
       "58   4.000000e+06           43.0  \n",
       "59   8.943000e+08          592.0  \n",
       "60   1.175000e+08          154.0  \n",
       "\n",
       "[61 rows x 4 columns]"
      ]
     },
     "execution_count": 15,
     "metadata": {},
     "output_type": "execute_result"
    }
   ],
   "source": [
    "# What are the total sums of estimated available funds for projects per agency? Here I convert the groupby object \n",
    "# into a dataframe using .reset_index()\n",
    "df2 = df.groupby('AgencyDept').sum().reset_index()\n",
    "df2"
   ]
  },
  {
   "cell_type": "code",
   "execution_count": 18,
   "metadata": {},
   "outputs": [
    {
     "name": "stdout",
     "output_type": "stream",
     "text": [
      "43\n"
     ]
    }
   ],
   "source": [
    "# Which agency has the most applications submitted?\n",
    "column = df2['AppsSubmitted']\n",
    "max_index = column.idxmax()\n",
    "print(max_index)"
   ]
  },
  {
   "cell_type": "code",
   "execution_count": 27,
   "metadata": {},
   "outputs": [
    {
     "data": {
      "text/html": [
       "<div>\n",
       "<style scoped>\n",
       "    .dataframe tbody tr th:only-of-type {\n",
       "        vertical-align: middle;\n",
       "    }\n",
       "\n",
       "    .dataframe tbody tr th {\n",
       "        vertical-align: top;\n",
       "    }\n",
       "\n",
       "    .dataframe thead th {\n",
       "        text-align: right;\n",
       "    }\n",
       "</style>\n",
       "<table border=\"1\" class=\"dataframe\">\n",
       "  <thead>\n",
       "    <tr style=\"text-align: right;\">\n",
       "      <th></th>\n",
       "      <th>AgencyDept</th>\n",
       "      <th>PortalID</th>\n",
       "      <th>EstAvailFunds</th>\n",
       "      <th>AppsSubmitted</th>\n",
       "    </tr>\n",
       "  </thead>\n",
       "  <tbody>\n",
       "    <tr>\n",
       "      <th>52</th>\n",
       "      <td>State Treasurer's Office</td>\n",
       "      <td>48592</td>\n",
       "      <td>1.385022e+10</td>\n",
       "      <td>8362.0</td>\n",
       "    </tr>\n",
       "    <tr>\n",
       "      <th>29</th>\n",
       "      <td>Department of Housing and Community Development</td>\n",
       "      <td>223968</td>\n",
       "      <td>6.596778e+09</td>\n",
       "      <td>1450.0</td>\n",
       "    </tr>\n",
       "    <tr>\n",
       "      <th>12</th>\n",
       "      <td>CA State Transportation Agency</td>\n",
       "      <td>24090</td>\n",
       "      <td>5.010000e+09</td>\n",
       "      <td>50.0</td>\n",
       "    </tr>\n",
       "    <tr>\n",
       "      <th>43</th>\n",
       "      <td>Governor's Office of Business and Economic Dev...</td>\n",
       "      <td>114747</td>\n",
       "      <td>3.215836e+09</td>\n",
       "      <td>438977.0</td>\n",
       "    </tr>\n",
       "    <tr>\n",
       "      <th>57</th>\n",
       "      <td>Transportation Commission</td>\n",
       "      <td>22048</td>\n",
       "      <td>1.900000e+09</td>\n",
       "      <td>0.0</td>\n",
       "    </tr>\n",
       "    <tr>\n",
       "      <th>44</th>\n",
       "      <td>Governor's Office of Emergency Services</td>\n",
       "      <td>287872</td>\n",
       "      <td>1.459800e+09</td>\n",
       "      <td>1566.0</td>\n",
       "    </tr>\n",
       "    <tr>\n",
       "      <th>40</th>\n",
       "      <td>Department of Water Resources</td>\n",
       "      <td>86750</td>\n",
       "      <td>1.419890e+09</td>\n",
       "      <td>308.0</td>\n",
       "    </tr>\n",
       "    <tr>\n",
       "      <th>53</th>\n",
       "      <td>State Water Resources Control Board</td>\n",
       "      <td>37410</td>\n",
       "      <td>1.396020e+09</td>\n",
       "      <td>786.0</td>\n",
       "    </tr>\n",
       "    <tr>\n",
       "      <th>28</th>\n",
       "      <td>Department of Health Care Access and Information</td>\n",
       "      <td>227190</td>\n",
       "      <td>1.177061e+09</td>\n",
       "      <td>4349.0</td>\n",
       "    </tr>\n",
       "    <tr>\n",
       "      <th>7</th>\n",
       "      <td>CA Energy Commission</td>\n",
       "      <td>209541</td>\n",
       "      <td>1.097218e+09</td>\n",
       "      <td>502.0</td>\n",
       "    </tr>\n",
       "  </tbody>\n",
       "</table>\n",
       "</div>"
      ],
      "text/plain": [
       "                                           AgencyDept  PortalID  \\\n",
       "52                           State Treasurer's Office     48592   \n",
       "29    Department of Housing and Community Development    223968   \n",
       "12                     CA State Transportation Agency     24090   \n",
       "43  Governor's Office of Business and Economic Dev...    114747   \n",
       "57                          Transportation Commission     22048   \n",
       "44            Governor's Office of Emergency Services    287872   \n",
       "40                      Department of Water Resources     86750   \n",
       "53                State Water Resources Control Board     37410   \n",
       "28   Department of Health Care Access and Information    227190   \n",
       "7                                CA Energy Commission    209541   \n",
       "\n",
       "    EstAvailFunds  AppsSubmitted  \n",
       "52   1.385022e+10         8362.0  \n",
       "29   6.596778e+09         1450.0  \n",
       "12   5.010000e+09           50.0  \n",
       "43   3.215836e+09       438977.0  \n",
       "57   1.900000e+09            0.0  \n",
       "44   1.459800e+09         1566.0  \n",
       "40   1.419890e+09          308.0  \n",
       "53   1.396020e+09          786.0  \n",
       "28   1.177061e+09         4349.0  \n",
       "7    1.097218e+09          502.0  "
      ]
     },
     "execution_count": 27,
     "metadata": {},
     "output_type": "execute_result"
    }
   ],
   "source": [
    "#creating a dataframe to show which ten agencies show the top total sums of estimated available funds\n",
    "df3 = df2.sort_values(\"EstAvailFunds\",ascending=False).head(10)\n",
    "df3"
   ]
  },
  {
   "cell_type": "code",
   "execution_count": 28,
   "metadata": {},
   "outputs": [
    {
     "data": {
      "application/vnd.plotly.v1+json": {
       "config": {
        "plotlyServerURL": "https://plot.ly"
       },
       "data": [
        {
         "alignmentgroup": "True",
         "hovertemplate": "AgencyDept=%{x}<br>EstAvailFunds=%{y}<extra></extra>",
         "legendgroup": "",
         "marker": {
          "color": "#636efa",
          "pattern": {
           "shape": ""
          }
         },
         "name": "",
         "offsetgroup": "",
         "orientation": "v",
         "showlegend": false,
         "textposition": "auto",
         "type": "bar",
         "x": [
          "State Treasurer's Office",
          "Department of Housing and Community Development",
          "CA State Transportation Agency",
          "Governor's Office of Business and Economic Development",
          "Transportation Commission",
          "Governor's Office of Emergency Services",
          "Department of Water Resources",
          "State Water Resources Control Board",
          "Department of Health Care Access and Information",
          "CA Energy Commission"
         ],
         "xaxis": "x",
         "y": [
          13850221686,
          6596777869,
          5010000000,
          3215835827,
          1900000000,
          1459800345,
          1419890000,
          1396020000,
          1177061420,
          1097218250
         ],
         "yaxis": "y"
        }
       ],
       "layout": {
        "barmode": "relative",
        "legend": {
         "tracegroupgap": 0
        },
        "margin": {
         "t": 60
        },
        "template": {
         "data": {
          "bar": [
           {
            "error_x": {
             "color": "#2a3f5f"
            },
            "error_y": {
             "color": "#2a3f5f"
            },
            "marker": {
             "line": {
              "color": "#E5ECF6",
              "width": 0.5
             },
             "pattern": {
              "fillmode": "overlay",
              "size": 10,
              "solidity": 0.2
             }
            },
            "type": "bar"
           }
          ],
          "barpolar": [
           {
            "marker": {
             "line": {
              "color": "#E5ECF6",
              "width": 0.5
             },
             "pattern": {
              "fillmode": "overlay",
              "size": 10,
              "solidity": 0.2
             }
            },
            "type": "barpolar"
           }
          ],
          "carpet": [
           {
            "aaxis": {
             "endlinecolor": "#2a3f5f",
             "gridcolor": "white",
             "linecolor": "white",
             "minorgridcolor": "white",
             "startlinecolor": "#2a3f5f"
            },
            "baxis": {
             "endlinecolor": "#2a3f5f",
             "gridcolor": "white",
             "linecolor": "white",
             "minorgridcolor": "white",
             "startlinecolor": "#2a3f5f"
            },
            "type": "carpet"
           }
          ],
          "choropleth": [
           {
            "colorbar": {
             "outlinewidth": 0,
             "ticks": ""
            },
            "type": "choropleth"
           }
          ],
          "contour": [
           {
            "colorbar": {
             "outlinewidth": 0,
             "ticks": ""
            },
            "colorscale": [
             [
              0,
              "#0d0887"
             ],
             [
              0.1111111111111111,
              "#46039f"
             ],
             [
              0.2222222222222222,
              "#7201a8"
             ],
             [
              0.3333333333333333,
              "#9c179e"
             ],
             [
              0.4444444444444444,
              "#bd3786"
             ],
             [
              0.5555555555555556,
              "#d8576b"
             ],
             [
              0.6666666666666666,
              "#ed7953"
             ],
             [
              0.7777777777777778,
              "#fb9f3a"
             ],
             [
              0.8888888888888888,
              "#fdca26"
             ],
             [
              1,
              "#f0f921"
             ]
            ],
            "type": "contour"
           }
          ],
          "contourcarpet": [
           {
            "colorbar": {
             "outlinewidth": 0,
             "ticks": ""
            },
            "type": "contourcarpet"
           }
          ],
          "heatmap": [
           {
            "colorbar": {
             "outlinewidth": 0,
             "ticks": ""
            },
            "colorscale": [
             [
              0,
              "#0d0887"
             ],
             [
              0.1111111111111111,
              "#46039f"
             ],
             [
              0.2222222222222222,
              "#7201a8"
             ],
             [
              0.3333333333333333,
              "#9c179e"
             ],
             [
              0.4444444444444444,
              "#bd3786"
             ],
             [
              0.5555555555555556,
              "#d8576b"
             ],
             [
              0.6666666666666666,
              "#ed7953"
             ],
             [
              0.7777777777777778,
              "#fb9f3a"
             ],
             [
              0.8888888888888888,
              "#fdca26"
             ],
             [
              1,
              "#f0f921"
             ]
            ],
            "type": "heatmap"
           }
          ],
          "heatmapgl": [
           {
            "colorbar": {
             "outlinewidth": 0,
             "ticks": ""
            },
            "colorscale": [
             [
              0,
              "#0d0887"
             ],
             [
              0.1111111111111111,
              "#46039f"
             ],
             [
              0.2222222222222222,
              "#7201a8"
             ],
             [
              0.3333333333333333,
              "#9c179e"
             ],
             [
              0.4444444444444444,
              "#bd3786"
             ],
             [
              0.5555555555555556,
              "#d8576b"
             ],
             [
              0.6666666666666666,
              "#ed7953"
             ],
             [
              0.7777777777777778,
              "#fb9f3a"
             ],
             [
              0.8888888888888888,
              "#fdca26"
             ],
             [
              1,
              "#f0f921"
             ]
            ],
            "type": "heatmapgl"
           }
          ],
          "histogram": [
           {
            "marker": {
             "pattern": {
              "fillmode": "overlay",
              "size": 10,
              "solidity": 0.2
             }
            },
            "type": "histogram"
           }
          ],
          "histogram2d": [
           {
            "colorbar": {
             "outlinewidth": 0,
             "ticks": ""
            },
            "colorscale": [
             [
              0,
              "#0d0887"
             ],
             [
              0.1111111111111111,
              "#46039f"
             ],
             [
              0.2222222222222222,
              "#7201a8"
             ],
             [
              0.3333333333333333,
              "#9c179e"
             ],
             [
              0.4444444444444444,
              "#bd3786"
             ],
             [
              0.5555555555555556,
              "#d8576b"
             ],
             [
              0.6666666666666666,
              "#ed7953"
             ],
             [
              0.7777777777777778,
              "#fb9f3a"
             ],
             [
              0.8888888888888888,
              "#fdca26"
             ],
             [
              1,
              "#f0f921"
             ]
            ],
            "type": "histogram2d"
           }
          ],
          "histogram2dcontour": [
           {
            "colorbar": {
             "outlinewidth": 0,
             "ticks": ""
            },
            "colorscale": [
             [
              0,
              "#0d0887"
             ],
             [
              0.1111111111111111,
              "#46039f"
             ],
             [
              0.2222222222222222,
              "#7201a8"
             ],
             [
              0.3333333333333333,
              "#9c179e"
             ],
             [
              0.4444444444444444,
              "#bd3786"
             ],
             [
              0.5555555555555556,
              "#d8576b"
             ],
             [
              0.6666666666666666,
              "#ed7953"
             ],
             [
              0.7777777777777778,
              "#fb9f3a"
             ],
             [
              0.8888888888888888,
              "#fdca26"
             ],
             [
              1,
              "#f0f921"
             ]
            ],
            "type": "histogram2dcontour"
           }
          ],
          "mesh3d": [
           {
            "colorbar": {
             "outlinewidth": 0,
             "ticks": ""
            },
            "type": "mesh3d"
           }
          ],
          "parcoords": [
           {
            "line": {
             "colorbar": {
              "outlinewidth": 0,
              "ticks": ""
             }
            },
            "type": "parcoords"
           }
          ],
          "pie": [
           {
            "automargin": true,
            "type": "pie"
           }
          ],
          "scatter": [
           {
            "fillpattern": {
             "fillmode": "overlay",
             "size": 10,
             "solidity": 0.2
            },
            "type": "scatter"
           }
          ],
          "scatter3d": [
           {
            "line": {
             "colorbar": {
              "outlinewidth": 0,
              "ticks": ""
             }
            },
            "marker": {
             "colorbar": {
              "outlinewidth": 0,
              "ticks": ""
             }
            },
            "type": "scatter3d"
           }
          ],
          "scattercarpet": [
           {
            "marker": {
             "colorbar": {
              "outlinewidth": 0,
              "ticks": ""
             }
            },
            "type": "scattercarpet"
           }
          ],
          "scattergeo": [
           {
            "marker": {
             "colorbar": {
              "outlinewidth": 0,
              "ticks": ""
             }
            },
            "type": "scattergeo"
           }
          ],
          "scattergl": [
           {
            "marker": {
             "colorbar": {
              "outlinewidth": 0,
              "ticks": ""
             }
            },
            "type": "scattergl"
           }
          ],
          "scattermapbox": [
           {
            "marker": {
             "colorbar": {
              "outlinewidth": 0,
              "ticks": ""
             }
            },
            "type": "scattermapbox"
           }
          ],
          "scatterpolar": [
           {
            "marker": {
             "colorbar": {
              "outlinewidth": 0,
              "ticks": ""
             }
            },
            "type": "scatterpolar"
           }
          ],
          "scatterpolargl": [
           {
            "marker": {
             "colorbar": {
              "outlinewidth": 0,
              "ticks": ""
             }
            },
            "type": "scatterpolargl"
           }
          ],
          "scatterternary": [
           {
            "marker": {
             "colorbar": {
              "outlinewidth": 0,
              "ticks": ""
             }
            },
            "type": "scatterternary"
           }
          ],
          "surface": [
           {
            "colorbar": {
             "outlinewidth": 0,
             "ticks": ""
            },
            "colorscale": [
             [
              0,
              "#0d0887"
             ],
             [
              0.1111111111111111,
              "#46039f"
             ],
             [
              0.2222222222222222,
              "#7201a8"
             ],
             [
              0.3333333333333333,
              "#9c179e"
             ],
             [
              0.4444444444444444,
              "#bd3786"
             ],
             [
              0.5555555555555556,
              "#d8576b"
             ],
             [
              0.6666666666666666,
              "#ed7953"
             ],
             [
              0.7777777777777778,
              "#fb9f3a"
             ],
             [
              0.8888888888888888,
              "#fdca26"
             ],
             [
              1,
              "#f0f921"
             ]
            ],
            "type": "surface"
           }
          ],
          "table": [
           {
            "cells": {
             "fill": {
              "color": "#EBF0F8"
             },
             "line": {
              "color": "white"
             }
            },
            "header": {
             "fill": {
              "color": "#C8D4E3"
             },
             "line": {
              "color": "white"
             }
            },
            "type": "table"
           }
          ]
         },
         "layout": {
          "annotationdefaults": {
           "arrowcolor": "#2a3f5f",
           "arrowhead": 0,
           "arrowwidth": 1
          },
          "autotypenumbers": "strict",
          "coloraxis": {
           "colorbar": {
            "outlinewidth": 0,
            "ticks": ""
           }
          },
          "colorscale": {
           "diverging": [
            [
             0,
             "#8e0152"
            ],
            [
             0.1,
             "#c51b7d"
            ],
            [
             0.2,
             "#de77ae"
            ],
            [
             0.3,
             "#f1b6da"
            ],
            [
             0.4,
             "#fde0ef"
            ],
            [
             0.5,
             "#f7f7f7"
            ],
            [
             0.6,
             "#e6f5d0"
            ],
            [
             0.7,
             "#b8e186"
            ],
            [
             0.8,
             "#7fbc41"
            ],
            [
             0.9,
             "#4d9221"
            ],
            [
             1,
             "#276419"
            ]
           ],
           "sequential": [
            [
             0,
             "#0d0887"
            ],
            [
             0.1111111111111111,
             "#46039f"
            ],
            [
             0.2222222222222222,
             "#7201a8"
            ],
            [
             0.3333333333333333,
             "#9c179e"
            ],
            [
             0.4444444444444444,
             "#bd3786"
            ],
            [
             0.5555555555555556,
             "#d8576b"
            ],
            [
             0.6666666666666666,
             "#ed7953"
            ],
            [
             0.7777777777777778,
             "#fb9f3a"
            ],
            [
             0.8888888888888888,
             "#fdca26"
            ],
            [
             1,
             "#f0f921"
            ]
           ],
           "sequentialminus": [
            [
             0,
             "#0d0887"
            ],
            [
             0.1111111111111111,
             "#46039f"
            ],
            [
             0.2222222222222222,
             "#7201a8"
            ],
            [
             0.3333333333333333,
             "#9c179e"
            ],
            [
             0.4444444444444444,
             "#bd3786"
            ],
            [
             0.5555555555555556,
             "#d8576b"
            ],
            [
             0.6666666666666666,
             "#ed7953"
            ],
            [
             0.7777777777777778,
             "#fb9f3a"
            ],
            [
             0.8888888888888888,
             "#fdca26"
            ],
            [
             1,
             "#f0f921"
            ]
           ]
          },
          "colorway": [
           "#636efa",
           "#EF553B",
           "#00cc96",
           "#ab63fa",
           "#FFA15A",
           "#19d3f3",
           "#FF6692",
           "#B6E880",
           "#FF97FF",
           "#FECB52"
          ],
          "font": {
           "color": "#2a3f5f"
          },
          "geo": {
           "bgcolor": "white",
           "lakecolor": "white",
           "landcolor": "#E5ECF6",
           "showlakes": true,
           "showland": true,
           "subunitcolor": "white"
          },
          "hoverlabel": {
           "align": "left"
          },
          "hovermode": "closest",
          "mapbox": {
           "style": "light"
          },
          "paper_bgcolor": "white",
          "plot_bgcolor": "#E5ECF6",
          "polar": {
           "angularaxis": {
            "gridcolor": "white",
            "linecolor": "white",
            "ticks": ""
           },
           "bgcolor": "#E5ECF6",
           "radialaxis": {
            "gridcolor": "white",
            "linecolor": "white",
            "ticks": ""
           }
          },
          "scene": {
           "xaxis": {
            "backgroundcolor": "#E5ECF6",
            "gridcolor": "white",
            "gridwidth": 2,
            "linecolor": "white",
            "showbackground": true,
            "ticks": "",
            "zerolinecolor": "white"
           },
           "yaxis": {
            "backgroundcolor": "#E5ECF6",
            "gridcolor": "white",
            "gridwidth": 2,
            "linecolor": "white",
            "showbackground": true,
            "ticks": "",
            "zerolinecolor": "white"
           },
           "zaxis": {
            "backgroundcolor": "#E5ECF6",
            "gridcolor": "white",
            "gridwidth": 2,
            "linecolor": "white",
            "showbackground": true,
            "ticks": "",
            "zerolinecolor": "white"
           }
          },
          "shapedefaults": {
           "line": {
            "color": "#2a3f5f"
           }
          },
          "ternary": {
           "aaxis": {
            "gridcolor": "white",
            "linecolor": "white",
            "ticks": ""
           },
           "baxis": {
            "gridcolor": "white",
            "linecolor": "white",
            "ticks": ""
           },
           "bgcolor": "#E5ECF6",
           "caxis": {
            "gridcolor": "white",
            "linecolor": "white",
            "ticks": ""
           }
          },
          "title": {
           "x": 0.05
          },
          "xaxis": {
           "automargin": true,
           "gridcolor": "white",
           "linecolor": "white",
           "ticks": "",
           "title": {
            "standoff": 15
           },
           "zerolinecolor": "white",
           "zerolinewidth": 2
          },
          "yaxis": {
           "automargin": true,
           "gridcolor": "white",
           "linecolor": "white",
           "ticks": "",
           "title": {
            "standoff": 15
           },
           "zerolinecolor": "white",
           "zerolinewidth": 2
          }
         }
        },
        "xaxis": {
         "anchor": "y",
         "domain": [
          0,
          1
         ],
         "title": {
          "text": "AgencyDept"
         }
        },
        "yaxis": {
         "anchor": "x",
         "domain": [
          0,
          1
         ],
         "title": {
          "text": "EstAvailFunds"
         }
        }
       }
      },
      "text/html": [
       "<div>                            <div id=\"7c96ab55-1c89-4e9b-81b5-9694ca886078\" class=\"plotly-graph-div\" style=\"height:525px; width:100%;\"></div>            <script type=\"text/javascript\">                require([\"plotly\"], function(Plotly) {                    window.PLOTLYENV=window.PLOTLYENV || {};                                    if (document.getElementById(\"7c96ab55-1c89-4e9b-81b5-9694ca886078\")) {                    Plotly.newPlot(                        \"7c96ab55-1c89-4e9b-81b5-9694ca886078\",                        [{\"alignmentgroup\":\"True\",\"hovertemplate\":\"AgencyDept=%{x}<br>EstAvailFunds=%{y}<extra></extra>\",\"legendgroup\":\"\",\"marker\":{\"color\":\"#636efa\",\"pattern\":{\"shape\":\"\"}},\"name\":\"\",\"offsetgroup\":\"\",\"orientation\":\"v\",\"showlegend\":false,\"textposition\":\"auto\",\"x\":[\"State Treasurer's Office\",\"Department of Housing and Community Development\",\"CA State Transportation Agency\",\"Governor's Office of Business and Economic Development\",\"Transportation Commission\",\"Governor's Office of Emergency Services\",\"Department of Water Resources\",\"State Water Resources Control Board\",\"Department of Health Care Access and Information\",\"CA Energy Commission\"],\"xaxis\":\"x\",\"y\":[13850221686.0,6596777869.0,5010000000.0,3215835827.0,1900000000.0,1459800345.0,1419890000.0,1396020000.0,1177061420.0,1097218250.0],\"yaxis\":\"y\",\"type\":\"bar\"}],                        {\"template\":{\"data\":{\"histogram2dcontour\":[{\"type\":\"histogram2dcontour\",\"colorbar\":{\"outlinewidth\":0,\"ticks\":\"\"},\"colorscale\":[[0.0,\"#0d0887\"],[0.1111111111111111,\"#46039f\"],[0.2222222222222222,\"#7201a8\"],[0.3333333333333333,\"#9c179e\"],[0.4444444444444444,\"#bd3786\"],[0.5555555555555556,\"#d8576b\"],[0.6666666666666666,\"#ed7953\"],[0.7777777777777778,\"#fb9f3a\"],[0.8888888888888888,\"#fdca26\"],[1.0,\"#f0f921\"]]}],\"choropleth\":[{\"type\":\"choropleth\",\"colorbar\":{\"outlinewidth\":0,\"ticks\":\"\"}}],\"histogram2d\":[{\"type\":\"histogram2d\",\"colorbar\":{\"outlinewidth\":0,\"ticks\":\"\"},\"colorscale\":[[0.0,\"#0d0887\"],[0.1111111111111111,\"#46039f\"],[0.2222222222222222,\"#7201a8\"],[0.3333333333333333,\"#9c179e\"],[0.4444444444444444,\"#bd3786\"],[0.5555555555555556,\"#d8576b\"],[0.6666666666666666,\"#ed7953\"],[0.7777777777777778,\"#fb9f3a\"],[0.8888888888888888,\"#fdca26\"],[1.0,\"#f0f921\"]]}],\"heatmap\":[{\"type\":\"heatmap\",\"colorbar\":{\"outlinewidth\":0,\"ticks\":\"\"},\"colorscale\":[[0.0,\"#0d0887\"],[0.1111111111111111,\"#46039f\"],[0.2222222222222222,\"#7201a8\"],[0.3333333333333333,\"#9c179e\"],[0.4444444444444444,\"#bd3786\"],[0.5555555555555556,\"#d8576b\"],[0.6666666666666666,\"#ed7953\"],[0.7777777777777778,\"#fb9f3a\"],[0.8888888888888888,\"#fdca26\"],[1.0,\"#f0f921\"]]}],\"heatmapgl\":[{\"type\":\"heatmapgl\",\"colorbar\":{\"outlinewidth\":0,\"ticks\":\"\"},\"colorscale\":[[0.0,\"#0d0887\"],[0.1111111111111111,\"#46039f\"],[0.2222222222222222,\"#7201a8\"],[0.3333333333333333,\"#9c179e\"],[0.4444444444444444,\"#bd3786\"],[0.5555555555555556,\"#d8576b\"],[0.6666666666666666,\"#ed7953\"],[0.7777777777777778,\"#fb9f3a\"],[0.8888888888888888,\"#fdca26\"],[1.0,\"#f0f921\"]]}],\"contourcarpet\":[{\"type\":\"contourcarpet\",\"colorbar\":{\"outlinewidth\":0,\"ticks\":\"\"}}],\"contour\":[{\"type\":\"contour\",\"colorbar\":{\"outlinewidth\":0,\"ticks\":\"\"},\"colorscale\":[[0.0,\"#0d0887\"],[0.1111111111111111,\"#46039f\"],[0.2222222222222222,\"#7201a8\"],[0.3333333333333333,\"#9c179e\"],[0.4444444444444444,\"#bd3786\"],[0.5555555555555556,\"#d8576b\"],[0.6666666666666666,\"#ed7953\"],[0.7777777777777778,\"#fb9f3a\"],[0.8888888888888888,\"#fdca26\"],[1.0,\"#f0f921\"]]}],\"surface\":[{\"type\":\"surface\",\"colorbar\":{\"outlinewidth\":0,\"ticks\":\"\"},\"colorscale\":[[0.0,\"#0d0887\"],[0.1111111111111111,\"#46039f\"],[0.2222222222222222,\"#7201a8\"],[0.3333333333333333,\"#9c179e\"],[0.4444444444444444,\"#bd3786\"],[0.5555555555555556,\"#d8576b\"],[0.6666666666666666,\"#ed7953\"],[0.7777777777777778,\"#fb9f3a\"],[0.8888888888888888,\"#fdca26\"],[1.0,\"#f0f921\"]]}],\"mesh3d\":[{\"type\":\"mesh3d\",\"colorbar\":{\"outlinewidth\":0,\"ticks\":\"\"}}],\"scatter\":[{\"fillpattern\":{\"fillmode\":\"overlay\",\"size\":10,\"solidity\":0.2},\"type\":\"scatter\"}],\"parcoords\":[{\"type\":\"parcoords\",\"line\":{\"colorbar\":{\"outlinewidth\":0,\"ticks\":\"\"}}}],\"scatterpolargl\":[{\"type\":\"scatterpolargl\",\"marker\":{\"colorbar\":{\"outlinewidth\":0,\"ticks\":\"\"}}}],\"bar\":[{\"error_x\":{\"color\":\"#2a3f5f\"},\"error_y\":{\"color\":\"#2a3f5f\"},\"marker\":{\"line\":{\"color\":\"#E5ECF6\",\"width\":0.5},\"pattern\":{\"fillmode\":\"overlay\",\"size\":10,\"solidity\":0.2}},\"type\":\"bar\"}],\"scattergeo\":[{\"type\":\"scattergeo\",\"marker\":{\"colorbar\":{\"outlinewidth\":0,\"ticks\":\"\"}}}],\"scatterpolar\":[{\"type\":\"scatterpolar\",\"marker\":{\"colorbar\":{\"outlinewidth\":0,\"ticks\":\"\"}}}],\"histogram\":[{\"marker\":{\"pattern\":{\"fillmode\":\"overlay\",\"size\":10,\"solidity\":0.2}},\"type\":\"histogram\"}],\"scattergl\":[{\"type\":\"scattergl\",\"marker\":{\"colorbar\":{\"outlinewidth\":0,\"ticks\":\"\"}}}],\"scatter3d\":[{\"type\":\"scatter3d\",\"line\":{\"colorbar\":{\"outlinewidth\":0,\"ticks\":\"\"}},\"marker\":{\"colorbar\":{\"outlinewidth\":0,\"ticks\":\"\"}}}],\"scattermapbox\":[{\"type\":\"scattermapbox\",\"marker\":{\"colorbar\":{\"outlinewidth\":0,\"ticks\":\"\"}}}],\"scatterternary\":[{\"type\":\"scatterternary\",\"marker\":{\"colorbar\":{\"outlinewidth\":0,\"ticks\":\"\"}}}],\"scattercarpet\":[{\"type\":\"scattercarpet\",\"marker\":{\"colorbar\":{\"outlinewidth\":0,\"ticks\":\"\"}}}],\"carpet\":[{\"aaxis\":{\"endlinecolor\":\"#2a3f5f\",\"gridcolor\":\"white\",\"linecolor\":\"white\",\"minorgridcolor\":\"white\",\"startlinecolor\":\"#2a3f5f\"},\"baxis\":{\"endlinecolor\":\"#2a3f5f\",\"gridcolor\":\"white\",\"linecolor\":\"white\",\"minorgridcolor\":\"white\",\"startlinecolor\":\"#2a3f5f\"},\"type\":\"carpet\"}],\"table\":[{\"cells\":{\"fill\":{\"color\":\"#EBF0F8\"},\"line\":{\"color\":\"white\"}},\"header\":{\"fill\":{\"color\":\"#C8D4E3\"},\"line\":{\"color\":\"white\"}},\"type\":\"table\"}],\"barpolar\":[{\"marker\":{\"line\":{\"color\":\"#E5ECF6\",\"width\":0.5},\"pattern\":{\"fillmode\":\"overlay\",\"size\":10,\"solidity\":0.2}},\"type\":\"barpolar\"}],\"pie\":[{\"automargin\":true,\"type\":\"pie\"}]},\"layout\":{\"autotypenumbers\":\"strict\",\"colorway\":[\"#636efa\",\"#EF553B\",\"#00cc96\",\"#ab63fa\",\"#FFA15A\",\"#19d3f3\",\"#FF6692\",\"#B6E880\",\"#FF97FF\",\"#FECB52\"],\"font\":{\"color\":\"#2a3f5f\"},\"hovermode\":\"closest\",\"hoverlabel\":{\"align\":\"left\"},\"paper_bgcolor\":\"white\",\"plot_bgcolor\":\"#E5ECF6\",\"polar\":{\"bgcolor\":\"#E5ECF6\",\"angularaxis\":{\"gridcolor\":\"white\",\"linecolor\":\"white\",\"ticks\":\"\"},\"radialaxis\":{\"gridcolor\":\"white\",\"linecolor\":\"white\",\"ticks\":\"\"}},\"ternary\":{\"bgcolor\":\"#E5ECF6\",\"aaxis\":{\"gridcolor\":\"white\",\"linecolor\":\"white\",\"ticks\":\"\"},\"baxis\":{\"gridcolor\":\"white\",\"linecolor\":\"white\",\"ticks\":\"\"},\"caxis\":{\"gridcolor\":\"white\",\"linecolor\":\"white\",\"ticks\":\"\"}},\"coloraxis\":{\"colorbar\":{\"outlinewidth\":0,\"ticks\":\"\"}},\"colorscale\":{\"sequential\":[[0.0,\"#0d0887\"],[0.1111111111111111,\"#46039f\"],[0.2222222222222222,\"#7201a8\"],[0.3333333333333333,\"#9c179e\"],[0.4444444444444444,\"#bd3786\"],[0.5555555555555556,\"#d8576b\"],[0.6666666666666666,\"#ed7953\"],[0.7777777777777778,\"#fb9f3a\"],[0.8888888888888888,\"#fdca26\"],[1.0,\"#f0f921\"]],\"sequentialminus\":[[0.0,\"#0d0887\"],[0.1111111111111111,\"#46039f\"],[0.2222222222222222,\"#7201a8\"],[0.3333333333333333,\"#9c179e\"],[0.4444444444444444,\"#bd3786\"],[0.5555555555555556,\"#d8576b\"],[0.6666666666666666,\"#ed7953\"],[0.7777777777777778,\"#fb9f3a\"],[0.8888888888888888,\"#fdca26\"],[1.0,\"#f0f921\"]],\"diverging\":[[0,\"#8e0152\"],[0.1,\"#c51b7d\"],[0.2,\"#de77ae\"],[0.3,\"#f1b6da\"],[0.4,\"#fde0ef\"],[0.5,\"#f7f7f7\"],[0.6,\"#e6f5d0\"],[0.7,\"#b8e186\"],[0.8,\"#7fbc41\"],[0.9,\"#4d9221\"],[1,\"#276419\"]]},\"xaxis\":{\"gridcolor\":\"white\",\"linecolor\":\"white\",\"ticks\":\"\",\"title\":{\"standoff\":15},\"zerolinecolor\":\"white\",\"automargin\":true,\"zerolinewidth\":2},\"yaxis\":{\"gridcolor\":\"white\",\"linecolor\":\"white\",\"ticks\":\"\",\"title\":{\"standoff\":15},\"zerolinecolor\":\"white\",\"automargin\":true,\"zerolinewidth\":2},\"scene\":{\"xaxis\":{\"backgroundcolor\":\"#E5ECF6\",\"gridcolor\":\"white\",\"linecolor\":\"white\",\"showbackground\":true,\"ticks\":\"\",\"zerolinecolor\":\"white\",\"gridwidth\":2},\"yaxis\":{\"backgroundcolor\":\"#E5ECF6\",\"gridcolor\":\"white\",\"linecolor\":\"white\",\"showbackground\":true,\"ticks\":\"\",\"zerolinecolor\":\"white\",\"gridwidth\":2},\"zaxis\":{\"backgroundcolor\":\"#E5ECF6\",\"gridcolor\":\"white\",\"linecolor\":\"white\",\"showbackground\":true,\"ticks\":\"\",\"zerolinecolor\":\"white\",\"gridwidth\":2}},\"shapedefaults\":{\"line\":{\"color\":\"#2a3f5f\"}},\"annotationdefaults\":{\"arrowcolor\":\"#2a3f5f\",\"arrowhead\":0,\"arrowwidth\":1},\"geo\":{\"bgcolor\":\"white\",\"landcolor\":\"#E5ECF6\",\"subunitcolor\":\"white\",\"showland\":true,\"showlakes\":true,\"lakecolor\":\"white\"},\"title\":{\"x\":0.05},\"mapbox\":{\"style\":\"light\"}}},\"xaxis\":{\"anchor\":\"y\",\"domain\":[0.0,1.0],\"title\":{\"text\":\"AgencyDept\"}},\"yaxis\":{\"anchor\":\"x\",\"domain\":[0.0,1.0],\"title\":{\"text\":\"EstAvailFunds\"}},\"legend\":{\"tracegroupgap\":0},\"margin\":{\"t\":60},\"barmode\":\"relative\"},                        {\"responsive\": true}                    ).then(function(){\n",
       "                            \n",
       "var gd = document.getElementById('7c96ab55-1c89-4e9b-81b5-9694ca886078');\n",
       "var x = new MutationObserver(function (mutations, observer) {{\n",
       "        var display = window.getComputedStyle(gd).display;\n",
       "        if (!display || display === 'none') {{\n",
       "            console.log([gd, 'removed!']);\n",
       "            Plotly.purge(gd);\n",
       "            observer.disconnect();\n",
       "        }}\n",
       "}});\n",
       "\n",
       "// Listen for the removal of the full notebook cells\n",
       "var notebookContainer = gd.closest('#notebook-container');\n",
       "if (notebookContainer) {{\n",
       "    x.observe(notebookContainer, {childList: true});\n",
       "}}\n",
       "\n",
       "// Listen for the clearing of the current output cell\n",
       "var outputEl = gd.closest('.output');\n",
       "if (outputEl) {{\n",
       "    x.observe(outputEl, {childList: true});\n",
       "}}\n",
       "\n",
       "                        })                };                });            </script>        </div>"
      ]
     },
     "metadata": {},
     "output_type": "display_data"
    }
   ],
   "source": [
    "#using plotly to show which ten agencies show the top total sums of estimated available funds\n",
    "import plotly.express as px\n",
    "px.bar(df3, x=\"AgencyDept\", y=\"EstAvailFunds\")"
   ]
  },
  {
   "cell_type": "code",
   "execution_count": null,
   "metadata": {},
   "outputs": [],
   "source": []
  }
 ],
 "metadata": {
  "kernelspec": {
   "display_name": "Python 3 (ipykernel)",
   "language": "python",
   "name": "python3"
  },
  "language_info": {
   "codemirror_mode": {
    "name": "ipython",
    "version": 3
   },
   "file_extension": ".py",
   "mimetype": "text/x-python",
   "name": "python",
   "nbconvert_exporter": "python",
   "pygments_lexer": "ipython3",
   "version": "3.8.3"
  }
 },
 "nbformat": 4,
 "nbformat_minor": 4
}
